{
 "metadata": {
  "kernelspec": {
   "language": "python",
   "display_name": "Python 3",
   "name": "python3"
  },
  "language_info": {
   "name": "python",
   "version": "3.7.12",
   "mimetype": "text/x-python",
   "codemirror_mode": {
    "name": "ipython",
    "version": 3
   },
   "pygments_lexer": "ipython3",
   "nbconvert_exporter": "python",
   "file_extension": ".py"
  }
 },
 "nbformat_minor": 4,
 "nbformat": 4,
 "cells": [
  {
   "cell_type": "code",
   "source": [
    "import numpy as np\n",
    "import pandas as pd\n",
    "from PIL import Image\n",
    "\n",
    "import cv2 \n",
    "\n",
    "%pylab inline\n",
    "import matplotlib.pyplot as plt\n",
    "import matplotlib.image as mpimg\n",
    "\n",
    "import os\n",
    "\n",
    "\n",
    "from sklearn import preprocessing\n",
    "from sklearn.model_selection import train_test_split\n",
    "\n",
    "import tensorflow as tf\n",
    "from tensorflow.keras.applications.vgg16 import VGG16\n",
    "from tensorflow.keras.applications.inception_v3 import InceptionV3\n",
    "from tensorflow.keras import models\n",
    "from tensorflow.keras.preprocessing import image\n",
    "from tensorflow.keras.applications.vgg16 import preprocess_input\n",
    "\n",
    "from tensorflow import keras"
   ],
   "metadata": {
    "_uuid": "8f2839f25d086af736a60e9eeb907d3b93b6e0e5",
    "_cell_guid": "b1076dfc-b9ad-4769-8c92-a6c4dae69d19",
    "execution": {
     "iopub.status.busy": "2022-10-23T06:28:27.155341Z",
     "iopub.execute_input": "2022-10-23T06:28:27.155711Z",
     "iopub.status.idle": "2022-10-23T06:28:27.177829Z",
     "shell.execute_reply.started": "2022-10-23T06:28:27.155678Z",
     "shell.execute_reply": "2022-10-23T06:28:27.176784Z"
    },
    "trusted": true
   },
   "execution_count": 64,
   "outputs": [
    {
     "name": "stdout",
     "text": "Populating the interactive namespace from numpy and matplotlib\n",
     "output_type": "stream"
    },
    {
     "name": "stderr",
     "text": "/opt/conda/lib/python3.7/site-packages/IPython/core/magics/pylab.py:160: UserWarning: pylab import has clobbered these variables: ['f', 'clf']\n`%matplotlib` prevents importing * from pylab and numpy\n  \"\\n`%matplotlib` prevents importing * from pylab and numpy\"\n",
     "output_type": "stream"
    }
   ]
  },
  {
   "cell_type": "code",
   "source": [
    "CONFIG = {\n",
    "    'IMG_BASE_PATH': '/kaggle/input/hands-and-palm-images-dataset/Hands/Hands/'\n",
    "}\n",
    "\n",
    "m_class = 50"
   ],
   "metadata": {
    "execution": {
     "iopub.status.busy": "2022-10-23T06:28:27.180804Z",
     "iopub.execute_input": "2022-10-23T06:28:27.181423Z",
     "iopub.status.idle": "2022-10-23T06:28:27.186112Z",
     "shell.execute_reply.started": "2022-10-23T06:28:27.181384Z",
     "shell.execute_reply": "2022-10-23T06:28:27.184902Z"
    },
    "trusted": true
   },
   "execution_count": 65,
   "outputs": []
  },
  {
   "cell_type": "code",
   "source": [
    "df_info = pd.read_csv('/kaggle/input/hands-and-palm-images-dataset/HandInfo.csv')\n",
    "\n",
    "df_info = df_info[df_info.accessories == 0]\n",
    "# df_info = df_info[df_info.aspectOfHand.isin(['palmar left'])]\n",
    "df_info = df_info[df_info.id.isin(df_info.id.value_counts()[:m_class].index)]\n",
    "\n",
    "le = preprocessing.LabelEncoder()\n",
    "df_info['id'] = le.fit_transform(df_info['id'])\n",
    "\n",
    "leH = preprocessing.LabelEncoder()\n",
    "df_info['aspectOfHand'] = leH.fit_transform(df_info['aspectOfHand'])"
   ],
   "metadata": {
    "execution": {
     "iopub.status.busy": "2022-10-23T06:28:27.187613Z",
     "iopub.execute_input": "2022-10-23T06:28:27.189193Z",
     "iopub.status.idle": "2022-10-23T06:28:27.220960Z",
     "shell.execute_reply.started": "2022-10-23T06:28:27.189153Z",
     "shell.execute_reply": "2022-10-23T06:28:27.220139Z"
    },
    "trusted": true
   },
   "execution_count": 66,
   "outputs": []
  },
  {
   "cell_type": "code",
   "source": [
    "df_info"
   ],
   "metadata": {
    "execution": {
     "iopub.status.busy": "2022-10-23T06:28:27.221875Z",
     "iopub.execute_input": "2022-10-23T06:28:27.222211Z",
     "iopub.status.idle": "2022-10-23T06:28:27.240442Z",
     "shell.execute_reply.started": "2022-10-23T06:28:27.222178Z",
     "shell.execute_reply": "2022-10-23T06:28:27.239461Z"
    },
    "trusted": true
   },
   "execution_count": 67,
   "outputs": [
    {
     "execution_count": 67,
     "output_type": "execute_result",
     "data": {
      "text/plain": "       id  age  gender skinColor  accessories  nailPolish  aspectOfHand  \\\n1993   11   20  female    medium            0           0             1   \n1994   11   20  female    medium            0           0             1   \n1995   11   20  female    medium            0           0             1   \n1996   11   20  female    medium            0           0             1   \n1997   11   20  female    medium            0           0             1   \n...    ..  ...     ...       ...          ...         ...           ...   \n11071  45   22  female      fair            0           0             2   \n11072  45   22  female      fair            0           0             2   \n11073  45   22  female      fair            0           0             2   \n11074  45   22  female      fair            0           0             2   \n11075  45   22  female      fair            0           0             2   \n\n              imageName  irregularities  \n1993   Hand_0002300.jpg               0  \n1994   Hand_0002301.jpg               0  \n1995   Hand_0002302.jpg               0  \n1996   Hand_0002303.jpg               0  \n1997   Hand_0002304.jpg               0  \n...                 ...             ...  \n11071  Hand_0011740.jpg               0  \n11072  Hand_0011741.jpg               0  \n11073  Hand_0011742.jpg               0  \n11074  Hand_0011743.jpg               0  \n11075  Hand_0011744.jpg               0  \n\n[4099 rows x 9 columns]",
      "text/html": "<div>\n<style scoped>\n    .dataframe tbody tr th:only-of-type {\n        vertical-align: middle;\n    }\n\n    .dataframe tbody tr th {\n        vertical-align: top;\n    }\n\n    .dataframe thead th {\n        text-align: right;\n    }\n</style>\n<table border=\"1\" class=\"dataframe\">\n  <thead>\n    <tr style=\"text-align: right;\">\n      <th></th>\n      <th>id</th>\n      <th>age</th>\n      <th>gender</th>\n      <th>skinColor</th>\n      <th>accessories</th>\n      <th>nailPolish</th>\n      <th>aspectOfHand</th>\n      <th>imageName</th>\n      <th>irregularities</th>\n    </tr>\n  </thead>\n  <tbody>\n    <tr>\n      <th>1993</th>\n      <td>11</td>\n      <td>20</td>\n      <td>female</td>\n      <td>medium</td>\n      <td>0</td>\n      <td>0</td>\n      <td>1</td>\n      <td>Hand_0002300.jpg</td>\n      <td>0</td>\n    </tr>\n    <tr>\n      <th>1994</th>\n      <td>11</td>\n      <td>20</td>\n      <td>female</td>\n      <td>medium</td>\n      <td>0</td>\n      <td>0</td>\n      <td>1</td>\n      <td>Hand_0002301.jpg</td>\n      <td>0</td>\n    </tr>\n    <tr>\n      <th>1995</th>\n      <td>11</td>\n      <td>20</td>\n      <td>female</td>\n      <td>medium</td>\n      <td>0</td>\n      <td>0</td>\n      <td>1</td>\n      <td>Hand_0002302.jpg</td>\n      <td>0</td>\n    </tr>\n    <tr>\n      <th>1996</th>\n      <td>11</td>\n      <td>20</td>\n      <td>female</td>\n      <td>medium</td>\n      <td>0</td>\n      <td>0</td>\n      <td>1</td>\n      <td>Hand_0002303.jpg</td>\n      <td>0</td>\n    </tr>\n    <tr>\n      <th>1997</th>\n      <td>11</td>\n      <td>20</td>\n      <td>female</td>\n      <td>medium</td>\n      <td>0</td>\n      <td>0</td>\n      <td>1</td>\n      <td>Hand_0002304.jpg</td>\n      <td>0</td>\n    </tr>\n    <tr>\n      <th>...</th>\n      <td>...</td>\n      <td>...</td>\n      <td>...</td>\n      <td>...</td>\n      <td>...</td>\n      <td>...</td>\n      <td>...</td>\n      <td>...</td>\n      <td>...</td>\n    </tr>\n    <tr>\n      <th>11071</th>\n      <td>45</td>\n      <td>22</td>\n      <td>female</td>\n      <td>fair</td>\n      <td>0</td>\n      <td>0</td>\n      <td>2</td>\n      <td>Hand_0011740.jpg</td>\n      <td>0</td>\n    </tr>\n    <tr>\n      <th>11072</th>\n      <td>45</td>\n      <td>22</td>\n      <td>female</td>\n      <td>fair</td>\n      <td>0</td>\n      <td>0</td>\n      <td>2</td>\n      <td>Hand_0011741.jpg</td>\n      <td>0</td>\n    </tr>\n    <tr>\n      <th>11073</th>\n      <td>45</td>\n      <td>22</td>\n      <td>female</td>\n      <td>fair</td>\n      <td>0</td>\n      <td>0</td>\n      <td>2</td>\n      <td>Hand_0011742.jpg</td>\n      <td>0</td>\n    </tr>\n    <tr>\n      <th>11074</th>\n      <td>45</td>\n      <td>22</td>\n      <td>female</td>\n      <td>fair</td>\n      <td>0</td>\n      <td>0</td>\n      <td>2</td>\n      <td>Hand_0011743.jpg</td>\n      <td>0</td>\n    </tr>\n    <tr>\n      <th>11075</th>\n      <td>45</td>\n      <td>22</td>\n      <td>female</td>\n      <td>fair</td>\n      <td>0</td>\n      <td>0</td>\n      <td>2</td>\n      <td>Hand_0011744.jpg</td>\n      <td>0</td>\n    </tr>\n  </tbody>\n</table>\n<p>4099 rows × 9 columns</p>\n</div>"
     },
     "metadata": {}
    }
   ]
  },
  {
   "cell_type": "code",
   "source": [
    "df_info.aspectOfHand.value_counts()"
   ],
   "metadata": {
    "execution": {
     "iopub.status.busy": "2022-10-23T06:28:27.243416Z",
     "iopub.execute_input": "2022-10-23T06:28:27.244260Z",
     "iopub.status.idle": "2022-10-23T06:28:27.252567Z",
     "shell.execute_reply.started": "2022-10-23T06:28:27.244214Z",
     "shell.execute_reply": "2022-10-23T06:28:27.251568Z"
    },
    "trusted": true
   },
   "execution_count": 68,
   "outputs": [
    {
     "execution_count": 68,
     "output_type": "execute_result",
     "data": {
      "text/plain": "3    1110\n1    1040\n2    1007\n0     942\nName: aspectOfHand, dtype: int64"
     },
     "metadata": {}
    }
   ]
  },
  {
   "cell_type": "code",
   "source": [
    "leH.inverse_transform(df_info['aspectOfHand'])"
   ],
   "metadata": {
    "execution": {
     "iopub.status.busy": "2022-10-23T06:28:27.254089Z",
     "iopub.execute_input": "2022-10-23T06:28:27.254549Z",
     "iopub.status.idle": "2022-10-23T06:28:27.264350Z",
     "shell.execute_reply.started": "2022-10-23T06:28:27.254513Z",
     "shell.execute_reply": "2022-10-23T06:28:27.263225Z"
    },
    "trusted": true
   },
   "execution_count": 69,
   "outputs": [
    {
     "execution_count": 69,
     "output_type": "execute_result",
     "data": {
      "text/plain": "array(['dorsal right', 'dorsal right', 'dorsal right', ..., 'palmar left',\n       'palmar left', 'palmar left'], dtype=object)"
     },
     "metadata": {}
    }
   ]
  },
  {
   "cell_type": "code",
   "source": [
    "leH.classes_"
   ],
   "metadata": {
    "execution": {
     "iopub.status.busy": "2022-10-23T06:28:27.266671Z",
     "iopub.execute_input": "2022-10-23T06:28:27.267686Z",
     "iopub.status.idle": "2022-10-23T06:28:27.274407Z",
     "shell.execute_reply.started": "2022-10-23T06:28:27.267639Z",
     "shell.execute_reply": "2022-10-23T06:28:27.273344Z"
    },
    "trusted": true
   },
   "execution_count": 70,
   "outputs": [
    {
     "execution_count": 70,
     "output_type": "execute_result",
     "data": {
      "text/plain": "array(['dorsal left', 'dorsal right', 'palmar left', 'palmar right'],\n      dtype=object)"
     },
     "metadata": {}
    }
   ]
  },
  {
   "cell_type": "code",
   "source": [
    "subjects_ids = df_info.id.unique()\n",
    "\n",
    "df_info_list = []\n",
    "for i in subjects_ids:\n",
    "    df_i = df_info[df_info.id == i].head(10)\n",
    "    df_info_list.extend(df_i.to_numpy())\n",
    "    \n",
    "df_info2 = pd.DataFrame(df_info_list)\n",
    "df_info2.columns = df_info.columns\n",
    "# df_info2 = df_info2[['id', 'imageName']]"
   ],
   "metadata": {
    "execution": {
     "iopub.status.busy": "2022-10-23T06:28:27.275644Z",
     "iopub.execute_input": "2022-10-23T06:28:27.276515Z",
     "iopub.status.idle": "2022-10-23T06:28:27.314168Z",
     "shell.execute_reply.started": "2022-10-23T06:28:27.276478Z",
     "shell.execute_reply": "2022-10-23T06:28:27.313357Z"
    },
    "trusted": true
   },
   "execution_count": 71,
   "outputs": []
  },
  {
   "cell_type": "code",
   "source": [
    "def show_image(path: str):    \n",
    "    img = mpimg.imread(path)\n",
    "    imgplot = plt.imshow(img)\n",
    "    plt.show()"
   ],
   "metadata": {
    "execution": {
     "iopub.status.busy": "2022-10-23T06:28:27.315633Z",
     "iopub.execute_input": "2022-10-23T06:28:27.316212Z",
     "iopub.status.idle": "2022-10-23T06:28:27.321527Z",
     "shell.execute_reply.started": "2022-10-23T06:28:27.316176Z",
     "shell.execute_reply": "2022-10-23T06:28:27.320364Z"
    },
    "trusted": true
   },
   "execution_count": 72,
   "outputs": []
  },
  {
   "cell_type": "code",
   "source": [
    "X_train, X_test, y_train, y_test = train_test_split(df_info2, \n",
    "                                                    df_info2['id'], \n",
    "                                                    test_size=0.2, \n",
    "                                                    random_state=42, \n",
    "                                                    shuffle=True, \n",
    "                                                    stratify=df_info2['id'])\n",
    "# X_train, X_valid, y_train, y_valid = train_test_split(X_train,y_train,test_size=0.3,random_state=42,shuffle=True, stratify=y_train)"
   ],
   "metadata": {
    "execution": {
     "iopub.status.busy": "2022-10-23T06:28:27.323008Z",
     "iopub.execute_input": "2022-10-23T06:28:27.323469Z",
     "iopub.status.idle": "2022-10-23T06:28:27.339863Z",
     "shell.execute_reply.started": "2022-10-23T06:28:27.323435Z",
     "shell.execute_reply": "2022-10-23T06:28:27.338582Z"
    },
    "trusted": true
   },
   "execution_count": 73,
   "outputs": []
  },
  {
   "cell_type": "code",
   "source": [
    "images_train_list = []\n",
    "\n",
    "for path in X_train.imageName:    \n",
    "    image = tf.keras.preprocessing.image.load_img(CONFIG['IMG_BASE_PATH'] + os.sep + path)\n",
    "    image_arr = tf.keras.preprocessing.image.img_to_array(image)\n",
    "    image_arr = tf.image.resize(image_arr,(224, 224)).numpy()\n",
    "    # image_arr = (255 - image_arr) / 255\n",
    "    image_arr /= 255.\n",
    "    \n",
    "    # src = cv2.imread(CONFIG['IMG_BASE_PATH'] + os.sep + path)\n",
    "    # dst_sketch, dst_color_sketch = cv2.pencilSketch(src, sigma_s=50, sigma_r=0.05, shade_factor=0.05)\n",
    "    # dst_water_color = cv2.stylization(src, sigma_s=50, sigma_r=0.05)\n",
    "    # image_arr = dst_water_color / 255.\n",
    "    \n",
    "    images_train_list.append(image_arr)"
   ],
   "metadata": {
    "execution": {
     "iopub.status.busy": "2022-10-23T06:28:27.344601Z",
     "iopub.execute_input": "2022-10-23T06:28:27.345333Z",
     "iopub.status.idle": "2022-10-23T06:28:41.839173Z",
     "shell.execute_reply.started": "2022-10-23T06:28:27.345285Z",
     "shell.execute_reply": "2022-10-23T06:28:41.838123Z"
    },
    "trusted": true
   },
   "execution_count": 74,
   "outputs": []
  },
  {
   "cell_type": "code",
   "source": [
    "images_valid_list = []\n",
    "\n",
    "for path in X_test.imageName:\n",
    "    image = tf.keras.preprocessing.image.load_img(CONFIG['IMG_BASE_PATH'] + os.sep + path)\n",
    "    image_arr = tf.keras.preprocessing.image.img_to_array(image)\n",
    "    image_arr = tf.image.resize(image_arr,(224, 224)).numpy()\n",
    "    # image_arr = (255 - image_arr) / 255\n",
    "    image_arr /= 255\n",
    "    \n",
    "    images_valid_list.append(image_arr)"
   ],
   "metadata": {
    "execution": {
     "iopub.status.busy": "2022-10-23T06:28:41.840872Z",
     "iopub.execute_input": "2022-10-23T06:28:41.841684Z",
     "iopub.status.idle": "2022-10-23T06:28:45.384311Z",
     "shell.execute_reply.started": "2022-10-23T06:28:41.841640Z",
     "shell.execute_reply": "2022-10-23T06:28:45.383138Z"
    },
    "trusted": true
   },
   "execution_count": 75,
   "outputs": []
  },
  {
   "cell_type": "markdown",
   "source": [
    "# MODEL"
   ],
   "metadata": {}
  },
  {
   "cell_type": "code",
   "source": [
    "base_model = VGG16(weights='imagenet', include_top=True)\n",
    "\n",
    "x = base_model.get_layer('fc2').output\n",
    "\n",
    "model = models.Model(inputs=base_model.input, outputs=x)"
   ],
   "metadata": {
    "execution": {
     "iopub.status.busy": "2022-10-23T06:28:45.386974Z",
     "iopub.execute_input": "2022-10-23T06:28:45.387293Z",
     "iopub.status.idle": "2022-10-23T06:28:47.414360Z",
     "shell.execute_reply.started": "2022-10-23T06:28:45.387263Z",
     "shell.execute_reply": "2022-10-23T06:28:47.413371Z"
    },
    "trusted": true
   },
   "execution_count": 76,
   "outputs": []
  },
  {
   "cell_type": "code",
   "source": [
    "train_input_vvg16 = preprocess_input(np.array(images_train_list))\n",
    "valid_input_vvg16 = preprocess_input(np.array(images_valid_list))\n",
    "\n",
    "train_features = model.predict(train_input_vvg16)\n",
    "valid_features = model.predict(valid_input_vvg16)\n",
    "\n",
    "train_features = pd.DataFrame(train_features)\n",
    "valid_features = pd.DataFrame(valid_features)"
   ],
   "metadata": {
    "execution": {
     "iopub.status.busy": "2022-10-23T06:28:47.416201Z",
     "iopub.execute_input": "2022-10-23T06:28:47.416583Z",
     "iopub.status.idle": "2022-10-23T06:28:51.567814Z",
     "shell.execute_reply.started": "2022-10-23T06:28:47.416546Z",
     "shell.execute_reply": "2022-10-23T06:28:51.566737Z"
    },
    "trusted": true
   },
   "execution_count": 77,
   "outputs": []
  },
  {
   "cell_type": "code",
   "source": [
    "train_features = pd.concat([train_features, X_train['aspectOfHand'].reset_index().drop(['index'], axis=1)], axis=1)\n",
    "valid_features = pd.concat([valid_features, X_test['aspectOfHand'].reset_index().drop(['index'], axis=1)], axis=1)"
   ],
   "metadata": {
    "execution": {
     "iopub.status.busy": "2022-10-23T06:28:51.569147Z",
     "iopub.execute_input": "2022-10-23T06:28:51.569514Z",
     "iopub.status.idle": "2022-10-23T06:28:51.591160Z",
     "shell.execute_reply.started": "2022-10-23T06:28:51.569479Z",
     "shell.execute_reply": "2022-10-23T06:28:51.590318Z"
    },
    "trusted": true
   },
   "execution_count": 78,
   "outputs": []
  },
  {
   "cell_type": "code",
   "source": [
    "from sklearn import svm\n",
    "clf = svm.SVC()\n",
    "clf.fit(train_features, y_train)"
   ],
   "metadata": {
    "execution": {
     "iopub.status.busy": "2022-10-23T06:28:51.592615Z",
     "iopub.execute_input": "2022-10-23T06:28:51.592990Z",
     "iopub.status.idle": "2022-10-23T06:28:52.073773Z",
     "shell.execute_reply.started": "2022-10-23T06:28:51.592954Z",
     "shell.execute_reply": "2022-10-23T06:28:52.072658Z"
    },
    "trusted": true
   },
   "execution_count": 79,
   "outputs": [
    {
     "name": "stderr",
     "text": "/opt/conda/lib/python3.7/site-packages/sklearn/utils/validation.py:1692: FutureWarning: Feature names only support names that are all strings. Got feature names with dtypes: ['int', 'str']. An error will be raised in 1.2.\n  FutureWarning,\n",
     "output_type": "stream"
    },
    {
     "execution_count": 79,
     "output_type": "execute_result",
     "data": {
      "text/plain": "SVC()"
     },
     "metadata": {}
    }
   ]
  },
  {
   "cell_type": "code",
   "source": [
    "preds = clf.predict(valid_features)"
   ],
   "metadata": {
    "execution": {
     "iopub.status.busy": "2022-10-23T06:37:35.079696Z",
     "iopub.execute_input": "2022-10-23T06:37:35.080083Z",
     "iopub.status.idle": "2022-10-23T06:37:35.264563Z",
     "shell.execute_reply.started": "2022-10-23T06:37:35.080048Z",
     "shell.execute_reply": "2022-10-23T06:37:35.263501Z"
    },
    "trusted": true
   },
   "execution_count": 89,
   "outputs": [
    {
     "name": "stderr",
     "text": "/opt/conda/lib/python3.7/site-packages/sklearn/utils/validation.py:1692: FutureWarning: Feature names only support names that are all strings. Got feature names with dtypes: ['int', 'str']. An error will be raised in 1.2.\n  FutureWarning,\n",
     "output_type": "stream"
    }
   ]
  },
  {
   "cell_type": "code",
   "source": [
    "from sklearn.metrics import accuracy_score\n",
    "\n",
    "accuracy_score(y_test, clf.predict(valid_features))"
   ],
   "metadata": {
    "execution": {
     "iopub.status.busy": "2022-10-23T06:28:52.075244Z",
     "iopub.execute_input": "2022-10-23T06:28:52.076149Z",
     "iopub.status.idle": "2022-10-23T06:28:52.270488Z",
     "shell.execute_reply.started": "2022-10-23T06:28:52.076108Z",
     "shell.execute_reply": "2022-10-23T06:28:52.269436Z"
    },
    "trusted": true
   },
   "execution_count": 80,
   "outputs": [
    {
     "name": "stderr",
     "text": "/opt/conda/lib/python3.7/site-packages/sklearn/utils/validation.py:1692: FutureWarning: Feature names only support names that are all strings. Got feature names with dtypes: ['int', 'str']. An error will be raised in 1.2.\n  FutureWarning,\n",
     "output_type": "stream"
    },
    {
     "execution_count": 80,
     "output_type": "execute_result",
     "data": {
      "text/plain": "0.77"
     },
     "metadata": {}
    }
   ]
  },
  {
   "cell_type": "code",
   "source": [
    "X_test"
   ],
   "metadata": {
    "execution": {
     "iopub.status.busy": "2022-10-23T06:38:05.415846Z",
     "iopub.execute_input": "2022-10-23T06:38:05.416257Z",
     "iopub.status.idle": "2022-10-23T06:38:05.434556Z",
     "shell.execute_reply.started": "2022-10-23T06:38:05.416225Z",
     "shell.execute_reply": "2022-10-23T06:38:05.433654Z"
    },
    "trusted": true
   },
   "execution_count": 91,
   "outputs": [
    {
     "execution_count": 91,
     "output_type": "execute_result",
     "data": {
      "text/plain": "     id  age  gender skinColor  accessories  nailPolish  aspectOfHand  \\\n331  46   21  female    medium            0           0             1   \n54   32   20  female    medium            0           0             1   \n80   42   21  female      fair            0           0             0   \n236  18   21  female    medium            0           0             1   \n389  48   75  female      dark            0           0             0   \n..   ..  ...     ...       ...          ...         ...           ...   \n430  39   24    male    medium            0           0             1   \n144  27   21  female    medium            0           0             1   \n8    11   20  female    medium            0           0             1   \n49   37   21    male    medium            0           0             1   \n283  21   21    male    medium            0           0             1   \n\n            imageName  irregularities  \n331  Hand_0007918.jpg               0  \n54   Hand_0002903.jpg               0  \n80   Hand_0003592.jpg               0  \n236  Hand_0006167.jpg               0  \n389  Hand_0009418.jpg               0  \n..                ...             ...  \n430  Hand_0010863.jpg               0  \n144  Hand_0004675.jpg               0  \n8    Hand_0002308.jpg               0  \n49   Hand_0002853.jpg               0  \n283  Hand_0006961.jpg               0  \n\n[100 rows x 9 columns]",
      "text/html": "<div>\n<style scoped>\n    .dataframe tbody tr th:only-of-type {\n        vertical-align: middle;\n    }\n\n    .dataframe tbody tr th {\n        vertical-align: top;\n    }\n\n    .dataframe thead th {\n        text-align: right;\n    }\n</style>\n<table border=\"1\" class=\"dataframe\">\n  <thead>\n    <tr style=\"text-align: right;\">\n      <th></th>\n      <th>id</th>\n      <th>age</th>\n      <th>gender</th>\n      <th>skinColor</th>\n      <th>accessories</th>\n      <th>nailPolish</th>\n      <th>aspectOfHand</th>\n      <th>imageName</th>\n      <th>irregularities</th>\n    </tr>\n  </thead>\n  <tbody>\n    <tr>\n      <th>331</th>\n      <td>46</td>\n      <td>21</td>\n      <td>female</td>\n      <td>medium</td>\n      <td>0</td>\n      <td>0</td>\n      <td>1</td>\n      <td>Hand_0007918.jpg</td>\n      <td>0</td>\n    </tr>\n    <tr>\n      <th>54</th>\n      <td>32</td>\n      <td>20</td>\n      <td>female</td>\n      <td>medium</td>\n      <td>0</td>\n      <td>0</td>\n      <td>1</td>\n      <td>Hand_0002903.jpg</td>\n      <td>0</td>\n    </tr>\n    <tr>\n      <th>80</th>\n      <td>42</td>\n      <td>21</td>\n      <td>female</td>\n      <td>fair</td>\n      <td>0</td>\n      <td>0</td>\n      <td>0</td>\n      <td>Hand_0003592.jpg</td>\n      <td>0</td>\n    </tr>\n    <tr>\n      <th>236</th>\n      <td>18</td>\n      <td>21</td>\n      <td>female</td>\n      <td>medium</td>\n      <td>0</td>\n      <td>0</td>\n      <td>1</td>\n      <td>Hand_0006167.jpg</td>\n      <td>0</td>\n    </tr>\n    <tr>\n      <th>389</th>\n      <td>48</td>\n      <td>75</td>\n      <td>female</td>\n      <td>dark</td>\n      <td>0</td>\n      <td>0</td>\n      <td>0</td>\n      <td>Hand_0009418.jpg</td>\n      <td>0</td>\n    </tr>\n    <tr>\n      <th>...</th>\n      <td>...</td>\n      <td>...</td>\n      <td>...</td>\n      <td>...</td>\n      <td>...</td>\n      <td>...</td>\n      <td>...</td>\n      <td>...</td>\n      <td>...</td>\n    </tr>\n    <tr>\n      <th>430</th>\n      <td>39</td>\n      <td>24</td>\n      <td>male</td>\n      <td>medium</td>\n      <td>0</td>\n      <td>0</td>\n      <td>1</td>\n      <td>Hand_0010863.jpg</td>\n      <td>0</td>\n    </tr>\n    <tr>\n      <th>144</th>\n      <td>27</td>\n      <td>21</td>\n      <td>female</td>\n      <td>medium</td>\n      <td>0</td>\n      <td>0</td>\n      <td>1</td>\n      <td>Hand_0004675.jpg</td>\n      <td>0</td>\n    </tr>\n    <tr>\n      <th>8</th>\n      <td>11</td>\n      <td>20</td>\n      <td>female</td>\n      <td>medium</td>\n      <td>0</td>\n      <td>0</td>\n      <td>1</td>\n      <td>Hand_0002308.jpg</td>\n      <td>0</td>\n    </tr>\n    <tr>\n      <th>49</th>\n      <td>37</td>\n      <td>21</td>\n      <td>male</td>\n      <td>medium</td>\n      <td>0</td>\n      <td>0</td>\n      <td>1</td>\n      <td>Hand_0002853.jpg</td>\n      <td>0</td>\n    </tr>\n    <tr>\n      <th>283</th>\n      <td>21</td>\n      <td>21</td>\n      <td>male</td>\n      <td>medium</td>\n      <td>0</td>\n      <td>0</td>\n      <td>1</td>\n      <td>Hand_0006961.jpg</td>\n      <td>0</td>\n    </tr>\n  </tbody>\n</table>\n<p>100 rows × 9 columns</p>\n</div>"
     },
     "metadata": {}
    }
   ]
  },
  {
   "cell_type": "code",
   "source": [
    "for x in zip(y_test, preds):\n",
    "    print(x)"
   ],
   "metadata": {
    "execution": {
     "iopub.status.busy": "2022-10-23T06:37:40.211599Z",
     "iopub.execute_input": "2022-10-23T06:37:40.211982Z",
     "iopub.status.idle": "2022-10-23T06:37:40.218553Z",
     "shell.execute_reply.started": "2022-10-23T06:37:40.211947Z",
     "shell.execute_reply": "2022-10-23T06:37:40.217429Z"
    },
    "trusted": true
   },
   "execution_count": 90,
   "outputs": [
    {
     "name": "stdout",
     "text": "(46, 46)\n(32, 32)\n(42, 38)\n(18, 18)\n(48, 48)\n(5, 41)\n(41, 41)\n(36, 36)\n(9, 9)\n(15, 43)\n(14, 14)\n(19, 19)\n(16, 16)\n(31, 31)\n(29, 29)\n(19, 19)\n(44, 44)\n(6, 6)\n(34, 34)\n(36, 36)\n(41, 41)\n(26, 26)\n(40, 40)\n(4, 4)\n(35, 35)\n(33, 33)\n(43, 43)\n(28, 28)\n(47, 47)\n(26, 26)\n(2, 39)\n(18, 18)\n(8, 8)\n(38, 38)\n(1, 1)\n(3, 3)\n(20, 20)\n(21, 13)\n(0, 0)\n(11, 11)\n(32, 32)\n(48, 48)\n(13, 43)\n(25, 25)\n(6, 6)\n(29, 29)\n(7, 7)\n(17, 17)\n(45, 45)\n(35, 35)\n(17, 17)\n(31, 31)\n(8, 34)\n(23, 23)\n(49, 49)\n(14, 14)\n(44, 44)\n(37, 37)\n(46, 46)\n(30, 30)\n(23, 23)\n(28, 28)\n(12, 43)\n(4, 4)\n(42, 38)\n(22, 22)\n(24, 24)\n(16, 16)\n(22, 22)\n(5, 41)\n(38, 38)\n(0, 35)\n(34, 34)\n(39, 39)\n(10, 9)\n(40, 33)\n(20, 20)\n(2, 49)\n(10, 9)\n(9, 9)\n(25, 25)\n(30, 30)\n(24, 24)\n(15, 43)\n(13, 13)\n(43, 43)\n(33, 33)\n(12, 43)\n(27, 27)\n(45, 37)\n(1, 24)\n(3, 3)\n(7, 7)\n(49, 41)\n(47, 47)\n(39, 49)\n(27, 27)\n(11, 43)\n(37, 37)\n(21, 43)\n",
     "output_type": "stream"
    }
   ]
  },
  {
   "cell_type": "code",
   "source": [
    "X_test.to_csv('test.csv')"
   ],
   "metadata": {
    "execution": {
     "iopub.status.busy": "2022-10-23T06:28:52.272116Z",
     "iopub.execute_input": "2022-10-23T06:28:52.272770Z",
     "iopub.status.idle": "2022-10-23T06:28:52.280020Z",
     "shell.execute_reply.started": "2022-10-23T06:28:52.272729Z",
     "shell.execute_reply": "2022-10-23T06:28:52.278961Z"
    },
    "trusted": true
   },
   "execution_count": 81,
   "outputs": []
  },
  {
   "cell_type": "code",
   "source": [
    "X_test.aspectOfHand.value_counts()"
   ],
   "metadata": {
    "execution": {
     "iopub.status.busy": "2022-10-23T06:28:52.283546Z",
     "iopub.execute_input": "2022-10-23T06:28:52.283813Z",
     "iopub.status.idle": "2022-10-23T06:28:52.293776Z",
     "shell.execute_reply.started": "2022-10-23T06:28:52.283789Z",
     "shell.execute_reply": "2022-10-23T06:28:52.292609Z"
    },
    "trusted": true
   },
   "execution_count": 82,
   "outputs": [
    {
     "execution_count": 82,
     "output_type": "execute_result",
     "data": {
      "text/plain": "1    85\n0    10\n3     5\nName: aspectOfHand, dtype: int64"
     },
     "metadata": {}
    }
   ]
  },
  {
   "cell_type": "code",
   "source": [
    "import pickle"
   ],
   "metadata": {
    "execution": {
     "iopub.status.busy": "2022-10-23T06:28:52.295321Z",
     "iopub.execute_input": "2022-10-23T06:28:52.295677Z",
     "iopub.status.idle": "2022-10-23T06:28:52.305609Z",
     "shell.execute_reply.started": "2022-10-23T06:28:52.295640Z",
     "shell.execute_reply": "2022-10-23T06:28:52.304613Z"
    },
    "trusted": true
   },
   "execution_count": 83,
   "outputs": []
  },
  {
   "cell_type": "code",
   "source": [
    "with open('model_classification.pkl','wb') as f:\n",
    "    pickle.dump(clf,f)"
   ],
   "metadata": {
    "execution": {
     "iopub.status.busy": "2022-10-23T06:28:52.307084Z",
     "iopub.execute_input": "2022-10-23T06:28:52.307454Z",
     "iopub.status.idle": "2022-10-23T06:28:52.345469Z",
     "shell.execute_reply.started": "2022-10-23T06:28:52.307418Z",
     "shell.execute_reply": "2022-10-23T06:28:52.344274Z"
    },
    "trusted": true
   },
   "execution_count": 84,
   "outputs": []
  },
  {
   "cell_type": "code",
   "source": [],
   "metadata": {},
   "execution_count": null,
   "outputs": []
  }
 ]
}
